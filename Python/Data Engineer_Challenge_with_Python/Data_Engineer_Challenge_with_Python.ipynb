{
 "cells": [
  {
   "cell_type": "code",
   "execution_count": null,
   "metadata": {},
   "outputs": [],
   "source": [
    "#import library yang dibutuhkan\n",
    "import pandas as pd\n",
    "import requests\n",
    "from bs4 import BeautifulSoup\n",
    "\n",
    "#buatlah request ke website\n",
    "website_url = requests.get('https://id.wikipedia.org/wiki/Demografi_Indonesia').text\n",
    "soup = BeautifulSoup(website_url, 'lxml')\n",
    "\n",
    "#ambil table dengan class 'wikitable sortable'\n",
    "my_table = soup.find('table', {'class':'wikitable sortable'})\n",
    "\n",
    "#cari data dengan tag 'td'\n",
    "tabel_bersih = my_table.findAll('td')\n",
    "\n",
    "#buatlah lists kosong\n",
    "kodebps = []\n",
    "nama = []\n",
    "ibukota = []\n",
    "populasi = []\n",
    "luaskm = []\n",
    "pulau = []\n",
    "\n",
    "#memasukkan data ke dalam list berdasarkan pola HTML\n",
    "for i, link in enumerate(links):\n",
    "  if i in range(0, len(tabel_bersih), 9):\n",
    "  \tkode_bps.append(tabel_bersih.get_text())\n",
    "  if i in range(2, len(tabel_bersih), 9):\n",
    "  \tnama.append(tabel_bersih.get_text())\n",
    "  if i in range(4, len(tabel_bersih), 9):\n",
    "  \tibu_kota.append(tabel_bersih.get_text())\n",
    "  if i in range(5, len(tabel_bersih), 9):\n",
    "  \tpopulasi.append(tabel_bersih.get_text())\n",
    "  if i in range(6, len(tabel_bersih), 9):\n",
    "  \tluas_km.append(tabel_bersih.get_text())\n",
    "  if i in range(8, len(tabel_bersih), 9):\n",
    "  \tpulau.append(tabel_bersih.get_text()[:-1])\n",
    "    \n",
    "#buatlah DatFrame dan masukkan ke CSV\n",
    "df = pd.DataFrame()\n",
    "df['Kode BPS'] = kodebps\n",
    "df['Nama'] = nama\n",
    "df['Ibu Kota'] = ibukota\n",
    "df['Populasi'] = populasi\n",
    "df['Luas km'] = luaskm\n",
    "df['Pulau'] = pulau\n",
    "df.to_csv('Indonesia_Demography_by_Province.csv')"
   ]
  },
  {
   "cell_type": "code",
   "execution_count": null,
   "metadata": {},
   "outputs": [],
   "source": [
    "#import library yang dibutuhkan\n",
    "import re\n",
    "\n",
    "#function email_check\n",
    "def email_check(input):\n",
    "    match = re.search('(?=^((?!-).)*$)(?=[^0-9])((?=^((?!\\.\\d).)*$)|(?=.*_))',input)\n",
    "    if match:\n",
    "  \t    print('Pass')\n",
    "    else:\n",
    "  \t    print('Not Pass')\n",
    "\n",
    "#Masukkan daftar email ke dalam list\n",
    "emails = ['my-name@someemail.com', 'myname@someemail.com','my.name@someemail.com',\n",
    "'my.name2019@someemail.com', 'my.name.2019@someemail.com',\n",
    "'somename.201903@someemail.com','my_name.201903@someemail.com',\n",
    "'201903myname@someemail.com', '201903.myname@someemail.com']\n",
    "\n",
    "#Looping untuk pengecekan Pass atau Not Pass\n",
    "for email in emails :\n",
    "\temail_check(email)"
   ]
  }
 ],
 "metadata": {
  "kernelspec": {
   "display_name": "Python",
   "language": "python",
   "name": "conda-env-python-py"
  },
  "language_info": {
   "codemirror_mode": {
    "name": "ipython",
    "version": 3
   },
   "file_extension": ".py",
   "mimetype": "text/x-python",
   "name": "python",
   "nbconvert_exporter": "python",
   "pygments_lexer": "ipython3",
   "version": "3.6.12"
  }
 },
 "nbformat": 4,
 "nbformat_minor": 4
}
